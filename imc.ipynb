{
  "nbformat": 4,
  "nbformat_minor": 0,
  "metadata": {
    "colab": {
      "name": "imc.ipynb",
      "provenance": [],
      "authorship_tag": "ABX9TyO7QWmzc3u2ocwotV1DSgMX",
      "include_colab_link": true
    },
    "kernelspec": {
      "name": "python3",
      "display_name": "Python 3"
    },
    "language_info": {
      "name": "python"
    }
  },
  "cells": [
    {
      "cell_type": "markdown",
      "metadata": {
        "id": "view-in-github",
        "colab_type": "text"
      },
      "source": [
        "<a href=\"https://colab.research.google.com/github/diogenesvicente/Phyton/blob/main/imc.ipynb\" target=\"_parent\"><img src=\"https://colab.research.google.com/assets/colab-badge.svg\" alt=\"Open In Colab\"/></a>"
      ]
    },
    {
      "cell_type": "code",
      "metadata": {
        "colab": {
          "base_uri": "https://localhost:8080/"
        },
        "id": "YdmShXDfqVcV",
        "outputId": "a2c1dbba-c92f-4796-9124-24b1b34de5e3"
      },
      "source": [
        "peso = float(input('Digite seu peso'))\n",
        "altura = float(input('Digite sua altura'))\n",
        "\n",
        "imc = peso /altura**2\n",
        "\n",
        "if imc < 18.5:\n",
        "   print('você está com desunutrição procure um médico')\n",
        "elif 18.5 <= imc < 35:\n",
        "   print('Parabens seu peso está normal')\n",
        "elif 35 <= imc <39.9 :\n",
        "   print('Você está com sobre peso, é necessario atenção')\n",
        "elif imc >=40:\n",
        "  print('\\033[1;31;43mVocê está com obesidade Morbida, procure ajuda com urgência\\033[m')\n"
      ],
      "execution_count": 3,
      "outputs": [
        {
          "output_type": "stream",
          "text": [
            "Digite seu peso200\n",
            "Digite sua altura1.5\n",
            "\u001b[1;31;43mVocê está com obesidade Morbida, procure ajuda com urgencia\u001b[m\n"
          ],
          "name": "stdout"
        }
      ]
    }
  ]
}