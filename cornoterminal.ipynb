{
  "nbformat": 4,
  "nbformat_minor": 0,
  "metadata": {
    "colab": {
      "name": "cornoterminal.ipynb",
      "provenance": [],
      "authorship_tag": "ABX9TyOwhX2Jlw3YI04jIFLPYWTM",
      "include_colab_link": true
    },
    "kernelspec": {
      "name": "python3",
      "display_name": "Python 3"
    },
    "language_info": {
      "name": "python"
    }
  },
  "cells": [
    {
      "cell_type": "markdown",
      "metadata": {
        "id": "view-in-github",
        "colab_type": "text"
      },
      "source": [
        "<a href=\"https://colab.research.google.com/github/diogenesvicente/Phyton/blob/main/cornoterminal.ipynb\" target=\"_parent\"><img src=\"https://colab.research.google.com/assets/colab-badge.svg\" alt=\"Open In Colab\"/></a>"
      ]
    },
    {
      "cell_type": "code",
      "metadata": {
        "colab": {
          "base_uri": "https://localhost:8080/"
        },
        "id": "ZaYw66tqeqDP",
        "outputId": "fe30e04f-8560-4166-9119-1c2dd8194377"
      },
      "source": [
        "velocidade = float(input('Digite a velocidade do veiculo: '))\n",
        "print('O limite de velocidade da rodovia é de 80Km')\n",
        "if velocidade > 80:\n",
        "      print('\\033[1;31;43mVocê excedeu o limite de velcidade {}Km\\33[m'.format(velocidade-80))\n",
        "      multa= (velocidade - 80) *7\n",
        "      print('Você foi multado em R$ {:.2f}'.format(multa))\n",
        "\n",
        "print('\\033[32;43mTenha um bom dia! Diriga com segurança!\\033[m')\n",
        "\n",
        "#padrão ANCII para cor\n",
        "#styler 0 nada 1 bold 4 underline 7 negativo\n",
        "#fundo tela https://raccoon.ninja/pt/dev-pt/tabela-de-cores-ansi-python/\n",
        "# video aula cores https://www.youtube.com/watch?v=0hBIhkcA8O8\n",
        "# python cores no terminal  https://wiki.python.org.br/CoresNoTerminal\n",
        "\n",
        "\n",
        "\n",
        "\n",
        "\n"
      ],
      "execution_count": 13,
      "outputs": [
        {
          "output_type": "stream",
          "text": [
            "Digite a velocidade do veiculo: 134\n",
            "O limite de velocidade da rodovia é de 80Km\n",
            "\u001b[1;31;43mVocê excedeu o limite de velcidade 54.0Km\u001b[m\n",
            "Você foi multado em R$ 378.00\n",
            "\u001b[32;43mTenha um bom dia! Diriga com segurança!\u001b[m\n"
          ],
          "name": "stdout"
        }
      ]
    }
  ]
}