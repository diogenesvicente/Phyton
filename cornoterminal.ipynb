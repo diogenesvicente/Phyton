{
  "nbformat": 4,
  "nbformat_minor": 0,
  "metadata": {
    "colab": {
      "name": "cornoterminal.ipynb",
      "provenance": [],
      "authorship_tag": "ABX9TyPvWQvgskS1qjBhzsz3MbfW",
      "include_colab_link": true
    },
    "kernelspec": {
      "name": "python3",
      "display_name": "Python 3"
    },
    "language_info": {
      "name": "python"
    }
  },
  "cells": [
    {
      "cell_type": "markdown",
      "metadata": {
        "id": "view-in-github",
        "colab_type": "text"
      },
      "source": [
        "<a href=\"https://colab.research.google.com/github/diogenesvicente/Phyton/blob/main/cornoterminal.ipynb\" target=\"_parent\"><img src=\"https://colab.research.google.com/assets/colab-badge.svg\" alt=\"Open In Colab\"/></a>"
      ]
    },
    {
      "cell_type": "code",
      "metadata": {
        "colab": {
          "base_uri": "https://localhost:8080/"
        },
        "id": "ZaYw66tqeqDP",
        "outputId": "ffb605fe-c762-4c2f-c296-ce2141fbc25a"
      },
      "source": [
        "velocidade = float(input('Digite a velocidade do veiculo: '))\n",
        "print('O limite de velocidade da rodovia é de 80Km')\n",
        "if velocidade > 80:\n",
        "      print('Você excedeu o limite de velcidade {} {} {}Km'.format('\\033[1;31;43m', velocidade-80, '\\33[m'))\n",
        "      multa= (velocidade - 80) *7\n",
        "      print('Você foi multado em R$ {:.2f}'.format(multa))\n",
        "\n",
        "print('\\033[32;43mTenha um bom dia! Diriga com segurança!\\033[m')\n",
        "\n",
        "#padrão ANCII para cor\n",
        "#styler 0 nada 1 bold 4 underline 7 negativo\n",
        "#fundo tela https://raccoon.ninja/pt/dev-pt/tabela-de-cores-ansi-python/\n",
        "# video aula cores https://www.youtube.com/watch?v=0hBIhkcA8O8\n",
        "# python cores no terminal  https://wiki.python.org.br/CoresNoTerminal\n",
        "\n",
        "\n",
        "\n",
        "\n",
        "\n"
      ],
      "execution_count": 15,
      "outputs": [
        {
          "output_type": "stream",
          "text": [
            "Digite a velocidade do veiculo: 90\n",
            "O limite de velocidade da rodovia é de 80Km\n",
            "Você excedeu o limite de velcidade \u001b[1;31;43m 10.0 \u001b[mKm\n",
            "Você foi multado em R$ 70.00\n",
            "\u001b[32;43mTenha um bom dia! Diriga com segurança!\u001b[m\n"
          ],
          "name": "stdout"
        }
      ]
    },
    {
      "cell_type": "code",
      "metadata": {
        "colab": {
          "base_uri": "https://localhost:8080/"
        },
        "id": "GnxJUYlRJXVv",
        "outputId": "2d94d983-3345-4c6b-f487-8777870e9ea4"
      },
      "source": [
        "casa = float(input('Entre com o valor do imóvel R$ '))\n",
        "sal= float(input('Entre com o valor do salário R$ '))\n",
        "anos = float(input('Em quantos anos será o financiamento '))\n",
        "ent = float(input('Qual o valor da entrada R$ '))\n",
        "tj= float(input('Digite a taxa de juros '))\n",
        "\n",
        "ms = anos*12\n",
        "#numero de meses do financiamento\n",
        "fin = casa - ent\n",
        "# valor que vai ser financiado\n",
        "tj = 1/100\n",
        "#taxa de juros\n",
        "\n",
        "#taxa de juros de 1% ao mês juros compostos M=C(1+i)t elevado ao tempo\n",
        "#M é o montante do financiamento \\ C é o capital \\ i a taxa fixa\n",
        "# t período de tempo\n",
        "# calculo da prestação an juros compostos http://www.matematicadidatica.com.br/CalculoPrestacao.aspx\n",
        "\n",
        "\n",
        "cf = tj/(1-(1/((1+tj)**ms)))\n",
        "\n",
        "# coeficiente é reultado da formula\n",
        "\n",
        "pres = fin*cf \n",
        "\n",
        "#pres c= prestação\n",
        "\n",
        "minimo = sal*(30/100)\n",
        "\n",
        "print(pres)\n",
        "if pres <= minimo:\n",
        "    print(\"Emprestimo concedido\")\n",
        "else:\n",
        "    print (\"\\033[1;31;43m Emprestimo Negado\\033[m\")"
      ],
      "execution_count": 25,
      "outputs": [
        {
          "output_type": "stream",
          "text": [
            "Entre com o valor do imóvel R$ 4000000\n",
            "Entre com o valor do salário R$ 5000\n",
            "Em quantos anos será o financiamento 10\n",
            "Qual o valor da entrada R$ 30000\n",
            "Digite a taxa de juros 1\n",
            "56957.96651582717\n",
            "\u001b[1;31;43m Emprestimo Negado\u001b[m\n"
          ],
          "name": "stdout"
        }
      ]
    }
  ]
}