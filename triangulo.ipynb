{
  "nbformat": 4,
  "nbformat_minor": 0,
  "metadata": {
    "colab": {
      "name": "triangulo.ipynb",
      "provenance": [],
      "authorship_tag": "ABX9TyOlHe6hsixSwUjIOxwxNh95",
      "include_colab_link": true
    },
    "kernelspec": {
      "name": "python3",
      "display_name": "Python 3"
    },
    "language_info": {
      "name": "python"
    }
  },
  "cells": [
    {
      "cell_type": "markdown",
      "metadata": {
        "id": "view-in-github",
        "colab_type": "text"
      },
      "source": [
        "<a href=\"https://colab.research.google.com/github/diogenesvicente/Phyton/blob/main/triangulo.ipynb\" target=\"_parent\"><img src=\"https://colab.research.google.com/assets/colab-badge.svg\" alt=\"Open In Colab\"/></a>"
      ]
    },
    {
      "cell_type": "code",
      "metadata": {
        "id": "IYfX0b4Qy9yk"
      },
      "source": [
        "r1 = float(input('Digite o lado A '))\n",
        "r2 = float(input('Digite o lado B '))\n",
        "r3 = float(input('Digite o lado C '))\n",
        "\n",
        "\n",
        "if r1 < r2 + r3  and r2 < r1 + r3 and r3 < r1 + r2:\n",
        "   print ('Os seguimentos acima podem ser um triangulo', end='')\n",
        "   if r1==r2==r3:\n",
        "     print(' Equilátero')\n",
        "   elif r1 != r2 != r3 !=r1:\n",
        "      print (' Escaleno')\n",
        "   else: \n",
        "     print(' Isoscele')\n",
        "else:\n",
        "  print('Não é triangulo')\n"
      ],
      "execution_count": null,
      "outputs": []
    }
  ]
}