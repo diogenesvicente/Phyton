{
  "nbformat": 4,
  "nbformat_minor": 0,
  "metadata": {
    "colab": {
      "name": "jokempoemojy.ipynb",
      "provenance": [],
      "authorship_tag": "ABX9TyNwnHcoQIqjC23OVbZ6/ZyT",
      "include_colab_link": true
    },
    "kernelspec": {
      "name": "python3",
      "display_name": "Python 3"
    },
    "language_info": {
      "name": "python"
    }
  },
  "cells": [
    {
      "cell_type": "markdown",
      "metadata": {
        "id": "view-in-github",
        "colab_type": "text"
      },
      "source": [
        "<a href=\"https://colab.research.google.com/github/diogenesvicente/Phyton/blob/main/jokempoemojy.ipynb\" target=\"_parent\"><img src=\"https://colab.research.google.com/assets/colab-badge.svg\" alt=\"Open In Colab\"/></a>"
      ]
    },
    {
      "cell_type": "code",
      "metadata": {
        "colab": {
          "base_uri": "https://localhost:8080/"
        },
        "id": "r_wAqbYIeKCM",
        "outputId": "945bdd4a-24d9-4525-b081-60250bf2d235"
      },
      "source": [
        "import emoji\n",
        "from random import randint\n",
        "from time import sleep\n",
        "itens= (\"pedra\", \"papel\", \"tesoura\")\n",
        "computador = randint (0,2)\n",
        "#imprimir em varias linhas no python três aspas simples\n",
        "print ('''Suas opções\n",
        "[0] pedra\n",
        "[1] papel\n",
        "[2] tesoura''')\n",
        "\n",
        "jogador = int(input('Qual a sua jogada? '))\n",
        "print('JO')\n",
        "sleep(1)\n",
        "print('KEM')\n",
        "sleep(1)\n",
        "print('PO')\n",
        "print('-='*10)\n",
        "print('O computador jogou {}'.format(itens[computador]))\n",
        "print('-='*10)\n",
        "print('O jogador jogou {}'.format(itens[jogador]))\n",
        "print('-='*10)\n",
        "\n",
        "if computador == 0:\n",
        "    if jogador == 0:\n",
        "      print(emoji.emojize('Empate  /play crickets'))\n",
        "    elif jogador == 1:\n",
        "      print(emoji.emojize('Jogador ganhou :heart_eyes:', use_aliases=True))\n",
        "    elif jogador == 2:\n",
        "      print(emoji.emojize('Computador Ganhou :sleepy:', use_aliases=True))\n",
        "    else:\n",
        "      print('Jogada invalida')\n",
        "      jogador = int(input('Qual a sua jogada?'))\n",
        "elif computador ==1:\n",
        "    if jogador == 0:\n",
        "      print(emoji.emojize('Computador Ganhou :rage:', use_aliases=True))\n",
        "    elif jogador == 1: \n",
        "      print(emoji.emojize('Empate /play crickets'))\n",
        "    elif jogador ==2:\n",
        "     print(emoji.emojize('Jogador ganhou :heart_eyes:', use_aliases=True))\n",
        "    else:\n",
        "      print('Jogada invalida')\n",
        "      jogador = int(input('Qual a sua jogada?'))\n",
        "elif computador == 2:\n",
        "    if jogador == 0:\n",
        "        print(emoji.emojize('Jogador ganhou :heart_eyes:', use_aliases=True))\n",
        "    elif jogador == 1:\n",
        "      print(emoji.emojize('Computador Ganhou  :rage:', use_aliases=True))\n",
        "    elif jogador == 2:\n",
        "      print(emoji.emojize('Empate /play crickets'))\n",
        "    else:\n",
        "      print('Jogada invalida')\n",
        "      jogador = int(input('Qual a sua jogada?'))\n",
        "\n",
        "    \n",
        "\n",
        "\n",
        "\n"
      ],
      "execution_count": null,
      "outputs": [
        {
          "output_type": "stream",
          "text": [
            "Suas opções\n",
            "[0] pedra\n",
            "[1] papel\n",
            "[2] tesoura\n",
            "Qual a sua jogada? 0\n",
            "JO\n",
            "KEM\n",
            "PO\n",
            "-=-=-=-=-=-=-=-=-=-=\n",
            "O computador jogou pedra\n",
            "-=-=-=-=-=-=-=-=-=-=\n",
            "O jogador jogou pedra\n",
            "-=-=-=-=-=-=-=-=-=-=\n",
            "Empate  /play crickets\n"
          ],
          "name": "stdout"
        }
      ]
    },
    {
      "cell_type": "markdown",
      "metadata": {
        "id": "w5H95u_5k3Cn"
      },
      "source": [
        "# Nova seção"
      ]
    },
    {
      "cell_type": "code",
      "metadata": {
        "colab": {
          "base_uri": "https://localhost:8080/"
        },
        "id": "k7q3mfCOLMyX",
        "outputId": "94c33e41-a167-4428-be51-988ea384cb40"
      },
      "source": [
        "!pip install emoji"
      ],
      "execution_count": null,
      "outputs": [
        {
          "output_type": "stream",
          "text": [
            "Collecting emoji\n",
            "\u001b[?25l  Downloading https://files.pythonhosted.org/packages/24/fa/b3368f41b95a286f8d300e323449ab4e86b85334c2e0b477e94422b8ed0f/emoji-1.2.0-py3-none-any.whl (131kB)\n",
            "\r\u001b[K     |██▌                             | 10kB 18.8MB/s eta 0:00:01\r\u001b[K     |█████                           | 20kB 25.8MB/s eta 0:00:01\r\u001b[K     |███████▌                        | 30kB 28.8MB/s eta 0:00:01\r\u001b[K     |██████████                      | 40kB 32.6MB/s eta 0:00:01\r\u001b[K     |████████████▌                   | 51kB 25.0MB/s eta 0:00:01\r\u001b[K     |███████████████                 | 61kB 27.3MB/s eta 0:00:01\r\u001b[K     |█████████████████▌              | 71kB 23.3MB/s eta 0:00:01\r\u001b[K     |████████████████████            | 81kB 24.4MB/s eta 0:00:01\r\u001b[K     |██████████████████████▌         | 92kB 22.7MB/s eta 0:00:01\r\u001b[K     |█████████████████████████       | 102kB 22.8MB/s eta 0:00:01\r\u001b[K     |███████████████████████████▌    | 112kB 22.8MB/s eta 0:00:01\r\u001b[K     |██████████████████████████████  | 122kB 22.8MB/s eta 0:00:01\r\u001b[K     |████████████████████████████████| 133kB 22.8MB/s \n",
            "\u001b[?25hInstalling collected packages: emoji\n",
            "Successfully installed emoji-1.2.0\n"
          ],
          "name": "stdout"
        }
      ]
    }
  ]
}