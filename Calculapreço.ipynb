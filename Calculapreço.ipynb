{
  "nbformat": 4,
  "nbformat_minor": 0,
  "metadata": {
    "colab": {
      "name": "Calculapreço.ipynb",
      "provenance": [],
      "authorship_tag": "ABX9TyMZO470TYd7bckxOtgEn6Wf",
      "include_colab_link": true
    },
    "kernelspec": {
      "name": "python3",
      "display_name": "Python 3"
    },
    "language_info": {
      "name": "python"
    }
  },
  "cells": [
    {
      "cell_type": "markdown",
      "metadata": {
        "id": "view-in-github",
        "colab_type": "text"
      },
      "source": [
        "<a href=\"https://colab.research.google.com/github/diogenesvicente/Phyton/blob/main/Calculapre%C3%A7o.ipynb\" target=\"_parent\"><img src=\"https://colab.research.google.com/assets/colab-badge.svg\" alt=\"Open In Colab\"/></a>"
      ]
    },
    {
      "cell_type": "code",
      "metadata": {
        "colab": {
          "base_uri": "https://localhost:8080/"
        },
        "id": "rW7hhtgIv_ve",
        "outputId": "406b301f-1be7-475d-940b-48964ba31ecd"
      },
      "source": [
        "print('{:=^40}'.format (' Lojas Carapreta '))\n",
        "#Centraliza a impressão na tela e faz repetição do =\n",
        "preço = float(input('Valor das Compras R$ '))\n",
        "#print com 3 aspas pula lina conforme a digitação\n",
        "\n",
        "print('''Formas de Pagamento\n",
        "[1] A vista em dinheiro\n",
        "[2] a vista no cartão de crédito\n",
        "[3] 2 vezes no cartão\n",
        "[4] 3 vezes ou mais no cartão''')\n",
        "\n",
        "opção = int(input('Qual a opção de pagamento '))\n",
        "lista = ['dinheiro', 'cartão', 'cartão dividido em 2 vezes', 'parcelado no cartão']\n",
        "if opção == 1:\n",
        "  forma = lista[0]\n",
        "  tot = preço - (preço*10/100)\n",
        "  print('\\nO Valor total das suas compras é de R$ {:.2f} e pago {} é R$ {:.2f}'.format(preço, forma, tot) )\n",
        "elif opção ==2:\n",
        "  forma = lista[1]\n",
        "  tot = preço -(preço*5/100)\n",
        "  print('\\nO Valor total das suas compras é de R$ {:.2f} e pago {} é R$ {:.2f}'.format(preço, forma, tot) )\n",
        "elif opção ==3:\n",
        "  forma = lista[2]\n",
        "  parcela = preço/2\n",
        "  tot = preço\n",
        "  print('\\n O valor de suas parcelas serão R${}'.format(parcela))\n",
        "  print('\\nO Valor total das suas compras é de R$ {:.2f} e pago {}'.format(preço, forma))\n",
        "elif opção == 4:\n",
        "  forma = lista[3]\n",
        "  par = int(input('em quantas parcelas você vai pagar '))\n",
        "  cf = 0.01/(1-(1/((1+0.01)**par)))\n",
        "  prec = preço*cf\n",
        "  parcela = prec/par\n",
        "  print('\\n O valor de sua parcela é R$  {:.2f} {} em {} vezes'.format(parcela, forma, par ))\n",
        "\n",
        "\n",
        "\n",
        "\n",
        "\n"
      ],
      "execution_count": 27,
      "outputs": [
        {
          "output_type": "stream",
          "text": [
            "=========== Lojas Carapreta ============\n",
            "Valor das Compras R$ 1000\n",
            "Formas de Pagamento\n",
            "[1] A vista em dinheiro\n",
            "[2] a vista no cartão de crédito\n",
            "[3] 2 vezes no cartão\n",
            "[4] 3 vezes ou mais no cartão\n",
            "Qual a opção de pagamento 4\n",
            "em quantas parcelas você vai pagar10\n",
            "\n",
            " O valor de sua parcela é R$  10.56 parcelado no cartão em 10\n"
          ],
          "name": "stdout"
        }
      ]
    }
  ]
}